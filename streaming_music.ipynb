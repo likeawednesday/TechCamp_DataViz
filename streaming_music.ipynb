{
 "cells": [
  {
   "cell_type": "markdown",
   "id": "44554608-5341-4148-8d2a-7d1fd3c9a9d2",
   "metadata": {},
   "source": [
    "# Data Analysis & Visualization with Python - Streaming Music (Spotify & YouTube)\n",
    "\n",
    "This dataset has a *lot* more rows and columns of data than the previous examples, so we'll need to carefully explore the data first, then determine which parts of the data are the most important or interesting, and then we'll know which kinds of data visualizations we should use."
   ]
  },
  {
   "cell_type": "code",
   "execution_count": null,
   "id": "a03ba594-0bf2-46ba-a606-9eb2391d5c24",
   "metadata": {
    "tags": []
   },
   "outputs": [],
   "source": [
    "# load libraries\n",
    "import os\n",
    "import pandas as pd\n",
    "import matplotlib.pyplot as plt\n",
    "import seaborn as sns\n",
    "import squarify"
   ]
  },
  {
   "cell_type": "code",
   "execution_count": null,
   "id": "d1ba6b69-4a07-4347-9c14-441c1651c76b",
   "metadata": {
    "tags": []
   },
   "outputs": [],
   "source": [
    "# import data\n",
    "filePath = os.path.join(\".\", \"data\", \"music.csv\")\n",
    "df = pd.read_csv(filePath)\n",
    "\n",
    "# look at top three rows of df\n",
    "# if we wanted to look at the bottom 3 rows, we would use df.tail(3)\n",
    "df.head(3)"
   ]
  },
  {
   "cell_type": "code",
   "execution_count": null,
   "id": "062d81d2-147d-4ee9-baed-513e2202a723",
   "metadata": {
    "tags": []
   },
   "outputs": [],
   "source": [
    "# Standard data exploration techniques\n",
    "\n",
    "# Size and shape of data\n",
    "print(\"Size: \", df.size, \"\\tShape: \", df.shape, \"\\n\\n\")\n",
    "\n",
    "# Dataframe info\n",
    "df.info()"
   ]
  },
  {
   "cell_type": "markdown",
   "id": "435ab3e8-91ca-4744-bd33-f7031282bd4a",
   "metadata": {},
   "source": [
    "##### What do you notice about how df.info() handles communicating null/non-null data compared to df.isnull(any) and df.isnull(sum)?\n",
    "##### Which do you think is more useful for you? Why?"
   ]
  },
  {
   "cell_type": "markdown",
   "id": "a12c07b0",
   "metadata": {},
   "source": [
    "## Deeper Data Exploration Techniques"
   ]
  },
  {
   "cell_type": "code",
   "execution_count": null,
   "id": "db2bafe3-9ac1-4b98-aa9d-5f9600e87352",
   "metadata": {
    "tags": []
   },
   "outputs": [],
   "source": [
    "# Describe the contents of the dataframe\n",
    "df.describe()"
   ]
  },
  {
   "cell_type": "markdown",
   "id": "ae5a2893-d575-4433-99c5-81a9a3294c81",
   "metadata": {},
   "source": [
    "### What insights can we get from creating visuals?\n",
    "#### Keep in mind to check for columns with null values. How would you handle those? Consider this on a case-by-case basis."
   ]
  },
  {
   "cell_type": "markdown",
   "id": "6272c866-1852-489a-b987-2da6e0a6a829",
   "metadata": {
    "tags": []
   },
   "source": [
    "##### 1. Find the Top 10 artists by Likes (sum the Likes column and [group by](https://pandas.pydata.org/pandas-docs/stable/reference/api/pandas.DataFrame.groupby.html) Artist)\n",
    "Keep in mind the Likes column has null values.\n",
    "\n",
    "Other references that may be helful include:\n",
    "* [sort_values](https://pandas.pydata.org/pandas-docs/stable/reference/api/pandas.DataFrame.sort_values.html) \n",
    "* [nlargest/nsmallest](https://datascientyst.com/get-top-10-highest-lowest-values-pandas/)"
   ]
  },
  {
   "cell_type": "code",
   "execution_count": null,
   "id": "c7f47893-f310-4e6d-9d6a-52724cd04e42",
   "metadata": {},
   "outputs": [],
   "source": [
    "# how many null values do you need to handle?\n",
    "# how does this influence how you'll proceed?"
   ]
  },
  {
   "cell_type": "code",
   "execution_count": null,
   "id": "cf449948-bc01-4a59-b962-1803632410c2",
   "metadata": {},
   "outputs": [],
   "source": [
    "# handle nulls\n",
    "# you can choose to create a df copy or to edit the df directly\n",
    "# if you want to play with different ways of handling nulls, create a copy"
   ]
  },
  {
   "cell_type": "code",
   "execution_count": null,
   "id": "b593a4d2-67e9-4416-8192-42ceeb4923b3",
   "metadata": {
    "tags": []
   },
   "outputs": [],
   "source": [
    "# group likes by artist"
   ]
  },
  {
   "cell_type": "code",
   "execution_count": null,
   "id": "b147643d-d60c-4cf1-a4b1-6344460ec0cc",
   "metadata": {
    "tags": []
   },
   "outputs": [],
   "source": [
    "# create visuals for top 10 and bottom 10 artists by like\n",
    "# may create individually (easier) or as subplots (harder)"
   ]
  },
  {
   "cell_type": "markdown",
   "id": "4121f425-3cc4-436e-ba6b-6cbc8a0c6c22",
   "metadata": {},
   "source": [
    "##### 2. Find the 10 longest songs and 10 shortest songs (use the Duration_ms column)\n",
    "Note: The Duration_ms column has null values, so you'll need to decide how to handle those."
   ]
  },
  {
   "cell_type": "code",
   "execution_count": null,
   "id": "b09ef4e4-b8d8-4350-842c-9b0dd76d839a",
   "metadata": {},
   "outputs": [],
   "source": [
    "# how many null values do you need to handle?\n",
    "# how does this influence how you'll proceed?"
   ]
  },
  {
   "cell_type": "code",
   "execution_count": null,
   "id": "0e411dd1-a817-4383-95ef-aabbf8fee1e4",
   "metadata": {},
   "outputs": [],
   "source": [
    "# handle nulls\n",
    "# you can choose to create a df copy or to edit the df directly\n",
    "# if you want to play with different ways of handling nulls, create a copy"
   ]
  },
  {
   "cell_type": "code",
   "execution_count": null,
   "id": "28b4dfc1-371f-473e-8ff7-fef4cee21314",
   "metadata": {},
   "outputs": [],
   "source": [
    "# get 10 shortest and 10 longest songs"
   ]
  },
  {
   "cell_type": "code",
   "execution_count": null,
   "id": "9127a0b4-3c09-48a9-8d60-cb535bc35506",
   "metadata": {},
   "outputs": [],
   "source": [
    "# create visuals for longest 10 and shortest 10 songs\n",
    "# may create individually (easier) or as subplots (harder)"
   ]
  },
  {
   "cell_type": "markdown",
   "id": "d48af350-9566-47f9-a354-c630b8c09ae3",
   "metadata": {},
   "source": [
    "##### 3. Find the top 10 and bottom 10 songs by play count (add the Views + Streams columns together)\n",
    "Note: The Views and Streams columns both have null values, so you'll need to decide how to handle those."
   ]
  },
  {
   "cell_type": "code",
   "execution_count": null,
   "id": "af4a7584-6021-4cfe-92dc-112e24c28f17",
   "metadata": {},
   "outputs": [],
   "source": [
    "# how many null values do you need to handle?\n",
    "# how does this influence how you'll proceed?"
   ]
  },
  {
   "cell_type": "code",
   "execution_count": null,
   "id": "f4fb354b-2fb5-4ec1-954b-7d5cc982a425",
   "metadata": {},
   "outputs": [],
   "source": [
    "# handle nulls\n",
    "# you can choose to create a df copy or to edit the df directly\n",
    "# if you want to play with different ways of handling nulls, create a copy"
   ]
  },
  {
   "cell_type": "code",
   "execution_count": null,
   "id": "dcb49605-a1d8-41c4-8c0b-c6967517116e",
   "metadata": {},
   "outputs": [],
   "source": [
    "# add Views and Stream columns together"
   ]
  },
  {
   "cell_type": "code",
   "execution_count": null,
   "id": "d489c529",
   "metadata": {},
   "outputs": [],
   "source": [
    "# get top 10 and bottom 10 songs by play count"
   ]
  },
  {
   "cell_type": "code",
   "execution_count": null,
   "id": "63db1f3e-6a4e-4880-a2e3-9eefcd68d380",
   "metadata": {},
   "outputs": [],
   "source": [
    "# create visual"
   ]
  },
  {
   "cell_type": "markdown",
   "id": "1d1dd1ff-14a8-4efb-b51e-21f7c977f742",
   "metadata": {},
   "source": [
    "##### 4. Find the top 10 and and bottom 10 Artists by play count (add the Views + Streams columns together, then sum that result and group by Artist)\n",
    "Note: The Views and Streams columns both have null values, so you'll need to decide how to handle those."
   ]
  },
  {
   "cell_type": "code",
   "execution_count": null,
   "id": "069d7274-0c94-4a51-8057-a3ffe89c38b1",
   "metadata": {},
   "outputs": [],
   "source": [
    "# how many null values do you need to handle?\n",
    "# how does this influence how you'll proceed?"
   ]
  },
  {
   "cell_type": "code",
   "execution_count": null,
   "id": "a3ce7191-d489-4bf1-9e81-1e4f8e9f6ab7",
   "metadata": {},
   "outputs": [],
   "source": [
    "# handle nulls\n",
    "# you can choose to create a df copy or to edit the df directly\n",
    "# if you want to play with different ways of handling nulls, create a copy"
   ]
  },
  {
   "cell_type": "code",
   "execution_count": null,
   "id": "722eb8d0-c410-4cc8-88c1-f161191f9578",
   "metadata": {},
   "outputs": [],
   "source": [
    "# add Views and Stream columns together"
   ]
  },
  {
   "cell_type": "code",
   "execution_count": null,
   "id": "8d00407d",
   "metadata": {},
   "outputs": [],
   "source": [
    "# get top 10 and bottom 10 Artists by play count"
   ]
  },
  {
   "cell_type": "code",
   "execution_count": null,
   "id": "5afd7d96",
   "metadata": {},
   "outputs": [],
   "source": [
    "# create visual"
   ]
  }
 ],
 "metadata": {
  "kernelspec": {
   "display_name": "Python 3 (ipykernel)",
   "language": "python",
   "name": "python3"
  },
  "language_info": {
   "codemirror_mode": {
    "name": "ipython",
    "version": 3
   },
   "file_extension": ".py",
   "mimetype": "text/x-python",
   "name": "python",
   "nbconvert_exporter": "python",
   "pygments_lexer": "ipython3",
   "version": "3.11.4"
  }
 },
 "nbformat": 4,
 "nbformat_minor": 5
}
