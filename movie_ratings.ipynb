{
 "cells": [
  {
   "cell_type": "markdown",
   "id": "c7a8af0e",
   "metadata": {},
   "source": [
    "# Data Analysis & Visualization with Python - Movie Ratings"
   ]
  },
  {
   "cell_type": "code",
   "execution_count": null,
   "id": "54250c33",
   "metadata": {},
   "outputs": [],
   "source": [
    "# load libraries\n",
    "import os\n",
    "import pandas as pd\n",
    "import numpy as np\n",
    "import matplotlib.pyplot as plt\n",
    "import seaborn as sns\n",
    "\n",
    "# left-align tables in markdown\n",
    "from IPython.core.display import HTML\n",
    "table_css = \"table {align:left;display:block}\"\n",
    "HTML(\"<style>{}</style>\".format(table_css))"
   ]
  },
  {
   "cell_type": "code",
   "execution_count": null,
   "id": "9380e2b2",
   "metadata": {},
   "outputs": [],
   "source": [
    "# import data\n",
    "filePath = os.path.join(\".\", \"data\", \"imdb.csv\")\n",
    "df = pd.read_csv(filePath)\n",
    "\n",
    "# preview data\n",
    "df.head()"
   ]
  },
  {
   "cell_type": "code",
   "execution_count": null,
   "id": "79247ad6-8301-450c-a6e7-f7faaa559fc3",
   "metadata": {
    "tags": []
   },
   "outputs": [],
   "source": [
    "# describe data\n",
    "df.describe()"
   ]
  },
  {
   "cell_type": "code",
   "execution_count": null,
   "id": "aaa0093e",
   "metadata": {},
   "outputs": [],
   "source": [
    "# size and shape of data\n",
    "print(\"Size: \", df.size, \"\\tShape: \", df.shape, \"\\n\\n\")\n",
    "\n",
    "# check for null values\n",
    "# tells you if a null value exists in each column\n",
    "print(\"Null Values\\n\", df.isnull().any(), \"\\n\\n\")\n",
    "\n",
    "# tells you how many null values exist in each column\n",
    "print(\"Null/NaN Count\\n\", df.isnull().sum(), \"\\n\\n\")\n",
    "\n",
    "# check data types\n",
    "df.dtypes"
   ]
  },
  {
   "cell_type": "markdown",
   "id": "d235fe19",
   "metadata": {},
   "source": [
    "### How would you describe this data: clean or messy or somewhere in the middle?\n",
    "### What problems might you run into based on what you know about the data so far?"
   ]
  },
  {
   "cell_type": "code",
   "execution_count": null,
   "id": "c014ce20",
   "metadata": {},
   "outputs": [],
   "source": [
    "# pie chart using matplotlib\n",
    "p_pie = (\n",
    "    df.groupby(\"Rate\")[\"Rate\"]\n",
    "    .count()\n",
    "    .plot.pie()\n",
    ")\n",
    "p_pie.set_title(\"Movie Ratings\")\n",
    "\n",
    "plt.show()"
   ]
  },
  {
   "cell_type": "code",
   "execution_count": null,
   "id": "0aabbc9e",
   "metadata": {},
   "outputs": [],
   "source": [
    "# pie chart using matplotlib\n",
    "x = df.Rate.unique()\n",
    "y = df.groupby(\"Rate\")[\"Rate\"].count()\n",
    "pct = 100.0 * y / y.sum()\n",
    "\n",
    "p_pie = df.groupby(\"Rate\")[\"Rate\"].count().plot.pie(labels=None)\n",
    "p_pie.legend(\n",
    "    labels=[\"{0} : {1:1.2f} %\".format(i, j) for i, j in zip(x, pct)],\n",
    "    loc=\"center right\",\n",
    "    bbox_to_anchor=(1, 0, 0.5, 1),\n",
    ")\n",
    "p_pie.set_title(\"IMDB Movie Grades\")\n",
    "\n",
    "plt.tight_layout()\n",
    "\n",
    "plt.show()"
   ]
  },
  {
   "cell_type": "markdown",
   "id": "b8c17ac4",
   "metadata": {},
   "source": [
    "## Let's make a better visual using the same data.\n",
    "\n",
    "We'll start by grouping the ratings into letter grades, just like in school:\n",
    "\n",
    "| Letter Grade | Score |\n",
    "|---|---|\n",
    "| A+ | 97–100% |\n",
    "| A | 93–96% |\n",
    "| A− | 90–92% |\n",
    "| B+ | 87–89% |\n",
    "| B | 83–86% |\n",
    "| B− | 80–82% |\n",
    "| C+ | 77–79% |\n",
    "| C | 73–76% |\n",
    "| C− | 70–72% |\n",
    "| D+ | 67–69% |\n",
    "| D | 63–66% |\n",
    "| D− | 60–62% |\n",
    "| F | 0–59% |"
   ]
  },
  {
   "cell_type": "code",
   "execution_count": null,
   "id": "1c655ecd",
   "metadata": {},
   "outputs": [],
   "source": [
    "# We'll need to add a new \"Grade\" column to the dataframe.\n",
    "# Let's use numpy to create a nested conditional statement and assign a Letter Grade to each movie in the dataframe:\n",
    "df[\"Grade\"] = np.where(\n",
    "    df[\"Rate\"] < 6,\n",
    "    \"F\",\n",
    "    np.where(\n",
    "        df[\"Rate\"] < 6.3,\n",
    "        \"D-\",\n",
    "        np.where(\n",
    "            df[\"Rate\"] < 6.7,\n",
    "            \"D\",\n",
    "            np.where(\n",
    "                df[\"Rate\"] < 7,\n",
    "                \"D+\",\n",
    "                np.where(\n",
    "                    df[\"Rate\"] < 7.3,\n",
    "                    \"C-\",\n",
    "                    np.where(\n",
    "                        df[\"Rate\"] < 7.7,\n",
    "                        \"C\",\n",
    "                        np.where(\n",
    "                            df[\"Rate\"] < 8,\n",
    "                            \"C+\",\n",
    "                            np.where(\n",
    "                                df[\"Rate\"] < 8.3,\n",
    "                                \"B-\",\n",
    "                                np.where(\n",
    "                                    df[\"Rate\"] < 8.7,\n",
    "                                    \"B\",\n",
    "                                    np.where(\n",
    "                                        df[\"Rate\"] < 9.0,\n",
    "                                        \"B+\",\n",
    "                                        np.where(\n",
    "                                            df[\"Rate\"] < 9.3,\n",
    "                                            \"A-\",\n",
    "                                            np.where(df[\"Rate\"] < 9.7, \"A\", \"A+\"),\n",
    "                                        ),\n",
    "                                    ),\n",
    "                                ),\n",
    "                            ),\n",
    "                        ),\n",
    "                    ),\n",
    "                ),\n",
    "            ),\n",
    "        ),\n",
    "    ),\n",
    ")\n",
    "\n",
    "# Let's check to make sure our new \"Grade\" column is in the dataframe.\n",
    "# This time, we'll preview the first 5 rows and only show the Title, Rate, and Grade columns:\n",
    "df.loc[:, [\"Title\", \"Rate\", \"Grade\"]].head()"
   ]
  },
  {
   "cell_type": "code",
   "execution_count": null,
   "id": "a29b3ce6",
   "metadata": {},
   "outputs": [],
   "source": [
    "# Great, our new \"Grade\" column is now part of the dataframe.\n",
    "# Let's see how our pie chart looks when we use the \"Grade\" column instead of the \"Rate\" column\n",
    "\n",
    "x = np.char.array([\"A\", \"A-\", \"B+\", \"B\", \"B-\", \"C+\", \"C\", \"C-\", \"D+\", \"D\", \"D-\", \"F\"])\n",
    "y = df.groupby(\"Grade\")[\"Grade\"].count()\n",
    "pct = 100.0 * y / y.sum()\n",
    "\n",
    "p_pie = df.groupby(\"Grade\")[\"Grade\"].count().plot.pie(labels=None)\n",
    "p_pie.legend(\n",
    "    labels=[\"{0} : {1:1.2f} %\".format(i, j) for i, j in zip(x, pct)],\n",
    "    loc=\"center right\",\n",
    "    bbox_to_anchor=(1, 0, 0.5, 1),\n",
    ")\n",
    "p_pie.set_title(\"IMDB Movie Grades\")\n",
    "\n",
    "plt.tight_layout()\n",
    "\n",
    "plt.show()"
   ]
  },
  {
   "cell_type": "markdown",
   "id": "af647357",
   "metadata": {},
   "source": [
    "## Wow, that's much better! (Or is it?)\n",
    "\n",
    "The technical term for what we've just done here is \"binning,\" like \"putting things into bins.\"\n",
    "Binning is useful for creating groups of rows with similar (but not identical) values.  \n",
    "\n",
    "## Questions\n",
    "\n",
    "- Can you think of any examples where you've seen binning used in a chart or graph in the real world?\n",
    "- If so, do you think it helped make the data easier to understand?  \n",
    "\n",
    "## To to:\n",
    "\n",
    "How would you visualise this data? Would you adjust the bins? Would you use the original data but a completely different kind of chart? Or would it be a combination of both? \n",
    "  \n",
    "\n"
   ]
  },
  {
   "cell_type": "code",
   "execution_count": null,
   "id": "01eac3ea-2160-4397-ae22-2aa7b506e8c1",
   "metadata": {},
   "outputs": [],
   "source": [
    "# show your solution to visualizing the Rate column\n"
   ]
  },
  {
   "cell_type": "markdown",
   "id": "c329dbcc",
   "metadata": {
    "tags": []
   },
   "source": [
    "# Handling missing data\n",
    "\n",
    "##### Here, we will create a copy of the dataframe for each of the three methods so we can more easily explore the differences in what happens in each scenario.\n",
    "##### Creating a copy will allow us to make changes without also altering the original df (e.g. if we were to use df_new = df)."
   ]
  },
  {
   "cell_type": "code",
   "execution_count": null,
   "id": "89006aac",
   "metadata": {},
   "outputs": [],
   "source": [
    "# create copies of the dataframe\n",
    "df_drop = df.copy()\n",
    "df_mean = df.copy()\n",
    "df_median = df.copy()\n",
    "df_mode = df.copy()"
   ]
  },
  {
   "cell_type": "markdown",
   "id": "9680d847",
   "metadata": {},
   "source": [
    "#### Filling with mode"
   ]
  },
  {
   "cell_type": "markdown",
   "id": "f84858a7",
   "metadata": {},
   "source": [
    "#### We'll compare what happens to the Certificate column via countplot"
   ]
  },
  {
   "cell_type": "code",
   "execution_count": null,
   "id": "e6e4039a",
   "metadata": {},
   "outputs": [],
   "source": [
    "# create countplot for Certificate\n",
    "s_count = sns.countplot(\n",
    "\tdata=df, x=df[\"Certificate\"], order=df[\"Certificate\"].value_counts().index\n",
    ").set_title(\"Certificate Count\")\n",
    "\n",
    "# rotate x-axis tick marks for better visibility\n",
    "plt.xticks(rotation=70)\n",
    "\n",
    "plt.show()"
   ]
  },
  {
   "cell_type": "markdown",
   "id": "a18ecdb6-7646-4533-abc8-377fcdcd4d60",
   "metadata": {},
   "source": [
    "##### Note that the chart above does not show any NaNs, yet we know that there are 27 NaN values - we haven't dropped anything. Seaborn does not include NaNs in its countplots. The benefit is that for this particular visual, it means we can skip writing that code. The downside is that it can have effects elsewhere that maybe we don't want.\n",
    "\n",
    "##### We have a couple options:\n",
    "* We can force Seaborn to count the NaN/null values by filling in the missing data; this this is categorical, we can just use the word \"missing\" or similar\n",
    "* We can use Pandas or Matplotlib instead"
   ]
  },
  {
   "cell_type": "code",
   "execution_count": null,
   "id": "a5442ef2-0309-4664-8294-9d79b5e37a5c",
   "metadata": {
    "tags": []
   },
   "outputs": [],
   "source": [
    "# option 1: we can fill the Nan/null values with 'Missing' so Seaborn will count those\n",
    "\n",
    "# create a copy of the dataframe\n",
    "df_missing = df.copy()\n",
    "\n",
    "s_count = sns.countplot(\n",
    "    data=df_missing.Certificate.fillna(\"Missing\", inplace=True),\n",
    "    x=df_missing[\"Certificate\"],\n",
    "    order=df_missing[\"Certificate\"].value_counts().index,\n",
    ").set_title(\"Certificate Count\")\n",
    "\n",
    "# rotate x-axis tick marks for better visibility\n",
    "plt.xticks(rotation=70)\n",
    "\n",
    "plt.show()"
   ]
  },
  {
   "cell_type": "code",
   "execution_count": null,
   "id": "7104ec34-7aec-4344-80ec-c739447adc59",
   "metadata": {
    "tags": []
   },
   "outputs": [],
   "source": [
    "# countplot using Pandas\n",
    "df.Certificate.value_counts(dropna=False).plot(kind=\"bar\").set_title(\n",
    "    \"Certificate Count\"\n",
    ")\n",
    "\n",
    "plt.show()"
   ]
  },
  {
   "cell_type": "markdown",
   "id": "9b4c0a0e-39fc-48fe-bda7-465ce265b22d",
   "metadata": {
    "tags": []
   },
   "source": [
    "##### We'll use fillna() to fill with the mode and we'll see how this looks when we plot this next.\n",
    "##### Because we will be making a modification to the dataframe that we don't necessarily want to keep, we'll use df_mode"
   ]
  },
  {
   "cell_type": "code",
   "execution_count": null,
   "id": "a58a282a-5909-41a0-be78-9bc4e76c5e3f",
   "metadata": {
    "tags": []
   },
   "outputs": [],
   "source": [
    "# fillna()\n",
    "df_mode[\"Certificate\"].fillna(df_mode[\"Certificate\"].mode()[0], inplace=True)\n",
    "\n",
    "# tells you how many null values exist in each column\n",
    "print(\"Original Null/NaN Count\\n\", df.isnull().sum(), \"\\n\\n\")\n",
    "print(\"New Null/NaN Count\\n\", df_mode.isnull().sum())"
   ]
  },
  {
   "cell_type": "code",
   "execution_count": null,
   "id": "61aed174-c0af-4caa-8ee4-af206b76d929",
   "metadata": {
    "tags": []
   },
   "outputs": [],
   "source": [
    "# show plots from two different dataframes in single visual\n",
    "\n",
    "# create copies (again, we don't necessarily want to alter what we've done to these so far - this won't always be the case)\n",
    "df1 = df.copy()\n",
    "df2 = df_mode.copy()\n",
    "\n",
    "# add new column called 'Key' to each of the new dataframes we created\n",
    "df1[\"Key\"] = \"Original\"\n",
    "df2[\"Key\"] = \"fillna mode\"\n",
    "\n",
    "# combine the two dataframes\n",
    "df_new = pd.concat([df1, df2], keys=[\"Original\", \"fillna mode\"])\n",
    "dfgroup = df_new.groupby([\"Certificate\", \"Key\"])\n",
    "\n",
    "# create plot using matplotlib\n",
    "dfgroup_plot = dfgroup[\"Certificate\"].count().unstack(\"Key\").plot(kind=\"bar\")\n",
    "dfgroup_plot.set_title(\"Original vs fillna mode Certificate Count\")\n",
    "\n",
    "# rotate x-axis tick marks for better visibility\n",
    "plt.xticks(rotation=70)\n",
    "\n",
    "plt.show()"
   ]
  },
  {
   "cell_type": "code",
   "execution_count": null,
   "id": "e194f1e4-729a-4196-979b-1980607ef135",
   "metadata": {
    "tags": []
   },
   "outputs": [],
   "source": [
    "# same as above, but to show two separate plots in a single output\n",
    "\n",
    "# set subplots\n",
    "f, (ax1, ax2) = plt.subplots(1, 2, figsize=(15, 5), sharex=False)\n",
    "\n",
    "# adjust spacing between subplots (if vertical, would use h_pad)\n",
    "f.tight_layout(w_pad=3)\n",
    "\n",
    "sns.countplot(\n",
    "    data=df_missing,\n",
    "    x=\"Certificate\",\n",
    "    order=df_missing[\"Certificate\"].value_counts().index,\n",
    "    ax=ax1,\n",
    ").set_title(\"Countplot: Original\")\n",
    "sns.countplot(\n",
    "    data=df_mode,\n",
    "    x=\"Certificate\",\n",
    "    order=df_mode[\"Certificate\"].value_counts().index,\n",
    "    ax=ax2,\n",
    ").set_title(\"Countplot: Fillna Mode\")\n",
    "\n",
    "# rotate x-axis tick marks for better visibility\n",
    "# we cannot use plt.xticks (rotation = []) because of how we have these set up\n",
    "# were you to show each figure in a different cell, you could use plt.xticks\n",
    "ax1.tick_params(axis=\"x\", labelrotation=90)\n",
    "ax2.tick_params(axis=\"x\", labelrotation=90)\n",
    "\n",
    "plt.show()"
   ]
  },
  {
   "cell_type": "markdown",
   "id": "ed3caede-ca89-4145-8a32-5901b7b924d0",
   "metadata": {},
   "source": [
    "##### We can see that between the original and filling NaNs with the mode that every count stayed the same except for 'R'\n",
    "##### Since R started as the certificate with the highest count and we used the mode to fill the NaNs"
   ]
  },
  {
   "cell_type": "markdown",
   "id": "e3b320cb",
   "metadata": {},
   "source": [
    "#### Test out different methods the Metascore column\n",
    "\n",
    "##### Try using countplots, histograms, or other visuals as fits well with the data"
   ]
  },
  {
   "cell_type": "code",
   "execution_count": null,
   "id": "7a77d3df-c301-4131-a851-9eaea2fb2ca1",
   "metadata": {
    "tags": []
   },
   "outputs": [],
   "source": [
    "# check status of dfs so you know what you're working with first\n",
    "# fill missing values as necessary\n",
    "\n",
    "# check status of dfs\n",
    "# hint: use print statements to see them all in one output"
   ]
  },
  {
   "cell_type": "code",
   "execution_count": null,
   "id": "460e0eac",
   "metadata": {
    "tags": []
   },
   "outputs": [],
   "source": [
    "# fillna with mean\n",
    "\n",
    "# check that no NaN/nulls are remaining\n",
    "# it's always good to check that your code has done what you think you told it to do"
   ]
  },
  {
   "cell_type": "code",
   "execution_count": null,
   "id": "1f90d91b",
   "metadata": {},
   "outputs": [],
   "source": [
    "# fillna with mean\n",
    "\n",
    "# check that no NaN/nulls are remaining\n",
    "# it's always good to check that your code has done what you think you told it to do"
   ]
  },
  {
   "cell_type": "code",
   "execution_count": null,
   "id": "ddfe31d7",
   "metadata": {},
   "outputs": [],
   "source": [
    "# fillna with median\n",
    "\n",
    "# check that no NaN/nulls are remaining\n",
    "# it's always good to check that your code has done what you think you told it to do"
   ]
  },
  {
   "cell_type": "code",
   "execution_count": null,
   "id": "de3ca37e-0098-491f-8ee1-3852a9de78f8",
   "metadata": {
    "tags": []
   },
   "outputs": [],
   "source": [
    "# fillna with mode\n",
    "\n",
    "# check that no NaN/nulls are remaining\n",
    "# it's always good to check that your code has done what you think you told it to do"
   ]
  },
  {
   "cell_type": "code",
   "execution_count": null,
   "id": "bcb3e096-24af-4630-9398-15813861b504",
   "metadata": {
    "tags": []
   },
   "outputs": [],
   "source": [
    "# check status of dfs again to make sure you didn't miss anything\n",
    "# we won't worry about imputing missing categorical data with statistical methods"
   ]
  },
  {
   "cell_type": "code",
   "execution_count": null,
   "id": "bd1bad6b-1dfb-4653-9f38-f825e9119552",
   "metadata": {
    "tags": []
   },
   "outputs": [],
   "source": [
    "# for the purpose of this exercise, we'll drop missing categorical data, though this is not always what you want to do\n",
    "# because there are so few categorical data missing, we'll just drop them and recheck that we have no missing categorical values\n",
    "\n",
    "# check status of dfs again to make sure you didn't miss anything"
   ]
  },
  {
   "cell_type": "markdown",
   "id": "f257a494",
   "metadata": {},
   "source": [
    "#### Method 1 or Visual Choice 1\n",
    "\n",
    "Follow either the same method for all your visuals  (e.g. create all visuals using dropna or fillna mean)\n",
    "-OR-\n",
    "Use the same visual for multiple methods to see the effect different methods have on your visuals\n",
    "\n",
    "You can create single visuals or create multiple visuals in a single output - you decide what you want to look at and why!\n",
    "\n",
    "Think about what you want to make and why - maybe you want to deliberately make a good visual and maybe you don't.\n",
    "Regardless, after you create a visual ask yourself:\n",
    "1. Does it look the way I expected it to? Why or why not?\n",
    "2. Was this useful? Why or why not?\n",
    "2. What did I learn from this visual and why is it important?"
   ]
  },
  {
   "cell_type": "code",
   "execution_count": null,
   "id": "1f4a8ae0-d34d-4836-84b7-9949c0ab546c",
   "metadata": {},
   "outputs": [],
   "source": [
    "# visual 1"
   ]
  },
  {
   "cell_type": "markdown",
   "id": "41b636ab",
   "metadata": {},
   "source": [
    "#### Method 2 or Visual Choice 2"
   ]
  },
  {
   "cell_type": "code",
   "execution_count": null,
   "id": "4f55a521",
   "metadata": {},
   "outputs": [],
   "source": [
    "# visual 2"
   ]
  },
  {
   "cell_type": "markdown",
   "id": "60c198a4",
   "metadata": {},
   "source": [
    "#### Method 3 or Visual Choice 3"
   ]
  },
  {
   "cell_type": "code",
   "execution_count": null,
   "id": "c4e52880",
   "metadata": {},
   "outputs": [],
   "source": [
    "# visual 3"
   ]
  },
  {
   "cell_type": "markdown",
   "id": "96531507-d839-4d89-bdf8-453301468744",
   "metadata": {},
   "source": [
    "#### Questions to ask yourself\n",
    "##### Did all your visuals turn out as useful as you thought they would be? Why or why not?\n",
    "##### What did you learn?"
   ]
  }
 ],
 "metadata": {
  "kernelspec": {
   "display_name": "Python 3 (ipykernel)",
   "language": "python",
   "name": "python3"
  },
  "language_info": {
   "codemirror_mode": {
    "name": "ipython",
    "version": 3
   },
   "file_extension": ".py",
   "mimetype": "text/x-python",
   "name": "python",
   "nbconvert_exporter": "python",
   "pygments_lexer": "ipython3",
   "version": "3.11.3"
  }
 },
 "nbformat": 4,
 "nbformat_minor": 5
}
