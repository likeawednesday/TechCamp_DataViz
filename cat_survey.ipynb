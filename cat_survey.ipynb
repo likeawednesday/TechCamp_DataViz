{
 "cells": [
  {
   "cell_type": "markdown",
   "metadata": {},
   "source": [
    "# Data Visualization Using Python"
   ]
  },
  {
   "cell_type": "code",
   "execution_count": null,
   "metadata": {},
   "outputs": [],
   "source": [
    "!pip install pandas matplotlib seaborn squarify"
   ]
  },
  {
   "cell_type": "code",
   "execution_count": null,
   "metadata": {},
   "outputs": [],
   "source": [
    "# load libraries\n",
    "import os\n",
    "import pandas as pd\n",
    "import matplotlib.pyplot as plt\n",
    "import seaborn as sns\n",
    "import squarify"
   ]
  },
  {
   "cell_type": "markdown",
   "metadata": {},
   "source": [
    "## Data Exploration Pt I: Non-visual exploration"
   ]
  },
  {
   "cell_type": "markdown",
   "metadata": {},
   "source": [
    "### Sample 1\n",
    "\n",
    "As you go through this, consider:\n",
    " * What is this data telling us?\n",
    " * What kinds of visuals would be suitable for this data? Why?\n",
    " * What kinds of visuals would not be suitable for this data? Why?\n",
    " * Why are these steps important to do before creating a visual?\n",
    " * What other non-visual information might you want to look at before creating a visual?"
   ]
  },
  {
   "cell_type": "code",
   "execution_count": null,
   "metadata": {},
   "outputs": [],
   "source": [
    "# import data\n",
    "filePath = os.path.join('.','data','cats.csv')\n",
    "df = pd.read_csv(filePath)\n",
    "df"
   ]
  },
  {
   "cell_type": "code",
   "execution_count": null,
   "metadata": {},
   "outputs": [],
   "source": [
    "# size and shape of data\n",
    "print('Size: ', df.size)\n",
    "print('Shape: ', df.shape)"
   ]
  },
  {
   "cell_type": "code",
   "execution_count": null,
   "metadata": {},
   "outputs": [],
   "source": [
    "# check data types\n",
    "df.dtypes"
   ]
  },
  {
   "cell_type": "code",
   "execution_count": null,
   "metadata": {},
   "outputs": [],
   "source": [
    "# check for null values\n",
    "\n",
    "# tells you if a null value exists in each column\n",
    "print('Null Values\\n', df.isnull().any())\n",
    "print()\n",
    "\n",
    "# tells you how many null values exist in each column\n",
    "print('Null/NaN Count\\n', df.isnull().sum())"
   ]
  },
  {
   "cell_type": "markdown",
   "metadata": {},
   "source": [
    "## Data Exploration Pt II: Exploration using visuals"
   ]
  },
  {
   "cell_type": "markdown",
   "metadata": {},
   "source": [
    "### Good visuals"
   ]
  },
  {
   "cell_type": "code",
   "execution_count": null,
   "metadata": {
    "tags": []
   },
   "outputs": [],
   "source": [
    "# pie chart using matplotlib\n",
    "\n",
    "# pandas built-in visuals follow basic form of 'df.plot.[visual type]'\n",
    "\n",
    "# if you want to know more about how this syntax works,\n",
    "# see https://stackoverflow.com/questions/62534037/plotting-non-numerical-data-in-python\n",
    "p_pie = df.groupby('Answer')['Answer'].count().plot.pie(\n",
    "    labels = ['No', 'Yes'],\n",
    "    colors = ['r', 'b'], # you can leave this out and colors will autoselect\n",
    "    autopct = '%.2f%%',\n",
    "    textprops={'color':'black', 'size': 12, 'weight':'bold'}, # change text format - you can leave this out and will autoselect\n",
    "    figsize = (10, 10)\n",
    ")\n",
    "p_pie.legend(title = 'Reponses',\n",
    "             loc = 'center right', \n",
    "             bbox_to_anchor = (0.7,0,0.5,1))\n",
    "\n",
    "p_pie.set_title('Survey Results: Do You Like Cats?')\n",
    "\n",
    "plt.show()\n"
   ]
  },
  {
   "cell_type": "code",
   "execution_count": null,
   "metadata": {},
   "outputs": [],
   "source": [
    "# donut chart using matplotlib\n",
    "\n",
    "p_donut = df.groupby('Answer')['Answer'].count().plot.pie(\n",
    "    labels = ['No', 'Yes'],\n",
    "    colors = ['r', 'b'], # you can leave this out and colors will autoselect\n",
    "    autopct = '%.2f%%',\n",
    "    figsize = (10, 10)\n",
    ")\n",
    "p_donut.set_title('Survey Responses')\n",
    "p_donut.legend(title = 'Reponses',\n",
    "             loc = 'center right', \n",
    "             bbox_to_anchor = (0.7,0,0.5,1))\n",
    "p_donut.set_title('Survey Results: Do You Like Cats?')\n",
    "\n",
    "my_circle = plt.Circle((0,0), 0.7, color='white')\n",
    "p = plt.gcf()\n",
    "p.gca().add_artist(my_circle)\n",
    "\n",
    "plt.show()"
   ]
  },
  {
   "cell_type": "code",
   "execution_count": null,
   "metadata": {},
   "outputs": [],
   "source": [
    "# count plot (similar to a column chart or horizontal bar chart, but for counts) using seaborn\n",
    "\n",
    "s_count = sns.countplot(\n",
    "    x = df['Answer'], \n",
    "    palette = ['b', 'r']\n",
    ").set_title('Survey Results: Do You Like Cats?')\n",
    "\n",
    "plt.show()"
   ]
  },
  {
   "cell_type": "code",
   "execution_count": null,
   "metadata": {
    "tags": []
   },
   "outputs": [],
   "source": [
    "# treemap chart using squarify\n",
    "\n",
    "tm = squarify.plot(\n",
    "    df.groupby('Answer')['Answer'].count(),\n",
    "    label = ['No', 'Yes'],\n",
    "    color = ['r', 'b'],\n",
    "    pad = 0.25\n",
    ").set_title('Survey Results: Do You Like Cats?')\n",
    "\n",
    "plt.show(tm)"
   ]
  },
  {
   "cell_type": "markdown",
   "metadata": {},
   "source": [
    "### Now deliberately make a bad visual or two\n",
    "\n",
    "[Matplotlib colors](https://matplotlib.org/stable/gallery/color/named_colors.html)\n",
    "\n",
    "Can change axis by [creating a break](https://matplotlib.org/2.0.2/examples/pylab_examples/broken_axis.html) or by starting the axis at a different place (e.g. plt.ylim(bottom, top))"
   ]
  },
  {
   "cell_type": "code",
   "execution_count": null,
   "metadata": {
    "tags": []
   },
   "outputs": [],
   "source": [
    "# Bad or missing titles, labels, ambiguous color palette, change/break in axis etc.\n",
    "\n"
   ]
  },
  {
   "cell_type": "code",
   "execution_count": null,
   "metadata": {
    "tags": []
   },
   "outputs": [],
   "source": [
    "# Bad or missing titles, labels, ambiguous color palette, change/break in axis etc.\n",
    "\n"
   ]
  },
  {
   "cell_type": "code",
   "execution_count": null,
   "metadata": {},
   "outputs": [],
   "source": []
  }
 ],
 "metadata": {
  "kernelspec": {
   "display_name": "Python 3 (ipykernel)",
   "language": "python",
   "name": "python3"
  },
  "language_info": {
   "codemirror_mode": {
    "name": "ipython",
    "version": 3
   },
   "file_extension": ".py",
   "mimetype": "text/x-python",
   "name": "python",
   "nbconvert_exporter": "python",
   "pygments_lexer": "ipython3",
   "version": "3.11.3"
  }
 },
 "nbformat": 4,
 "nbformat_minor": 4
}
